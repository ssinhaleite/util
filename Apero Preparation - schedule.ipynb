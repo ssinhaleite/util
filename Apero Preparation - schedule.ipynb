{
 "cells": [
  {
   "cell_type": "markdown",
   "id": "76bba3e7",
   "metadata": {},
   "source": [
    "### input information\n",
    "\n",
    "dates = a list with the dates of every Friday during the semester (dd.mm)\n",
    "\n",
    "phd_students = a list with the names of the phd students\n",
    "\n",
    "master_students = a list with the names of the master students\n",
    "\n",
    "### output information\n",
    "\n",
    "A table with teams of three people for every date\n",
    "\n",
    "### improvement points:\n",
    "\n",
    "* read names from file or direct from INI webpage\n",
    "* generate the dates given begin/end of the semester\n",
    "* create teams with repeated people if not enough people available\n",
    "* "
   ]
  },
  {
   "cell_type": "code",
   "execution_count": 47,
   "id": "1bafdaae",
   "metadata": {},
   "outputs": [],
   "source": [
    "dates = [9.09, 16.09, 25.09]\n",
    "\n",
    "phd_students = [\"A\", \"B\", \"C\", \"D\", \"E\", \"F\", \"G\"]\n",
    "\n",
    "master_students = [\"H\", \"I\", \"J\", \"K\"]"
   ]
  },
  {
   "cell_type": "code",
   "execution_count": 48,
   "id": "a6e3a247",
   "metadata": {},
   "outputs": [
    {
     "name": "stdout",
     "output_type": "stream",
     "text": [
      "Date     Members        \n",
      "9.09     E               A               J              \n",
      "16.09    F               C               I              \n",
      "25.09    G               D               H              \n"
     ]
    }
   ],
   "source": [
    "import random\n",
    "schedule = {}\n",
    "\n",
    "if len(phd_students)+len(master_students) < len(dates)*3:\n",
    "    print(\"there are not enough people available\")\n",
    "\n",
    "else:\n",
    "    # for every date, pick two phd students and one master student\n",
    "    for date in dates:\n",
    "        phd_student1 = random.choice(phd_students)\n",
    "        phd_students.remove(phd_student1)\n",
    "        \n",
    "        phd_student2 = random.choice(phd_students)\n",
    "        phd_students.remove(phd_student2)\n",
    "        \n",
    "        master_student = random.choice(master_students)\n",
    "        master_students.remove(master_student)       \n",
    "        \n",
    "        \n",
    "        schedule[date] = [phd_student1, phd_student2, master_student]\n",
    "    \n",
    "\n",
    "print(\"{:<8} {:<15}\".format('Date','Members'))\n",
    "for k, v in schedule.items():\n",
    "    print(\"{:<8} {:<15} {:<15} {:<15}\".format(k, v[0], v[1], v[2]))\n",
    "\n"
   ]
  },
  {
   "cell_type": "code",
   "execution_count": null,
   "id": "8de34cd5",
   "metadata": {},
   "outputs": [],
   "source": []
  }
 ],
 "metadata": {
  "kernelspec": {
   "display_name": "Python 3 (ipykernel)",
   "language": "python",
   "name": "python3"
  },
  "language_info": {
   "codemirror_mode": {
    "name": "ipython",
    "version": 3
   },
   "file_extension": ".py",
   "mimetype": "text/x-python",
   "name": "python",
   "nbconvert_exporter": "python",
   "pygments_lexer": "ipython3",
   "version": "3.8.10"
  }
 },
 "nbformat": 4,
 "nbformat_minor": 5
}
